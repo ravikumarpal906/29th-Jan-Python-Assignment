{
 "cells": [
  {
   "cell_type": "markdown",
   "id": "5562011b-d3cd-46db-bcdd-d90622056b39",
   "metadata": {},
   "source": [
    "1. Who developed Python programming languag"
   ]
  },
  {
   "cell_type": "raw",
   "id": "1cc9bef3-b5a4-4c81-8caf-a37960b54926",
   "metadata": {},
   "source": [
    "Python programming language was created by Guido van Rossum. Guido van Rossum began working on Python in the late 1980s, and the first version of Python, Python 0.9.0, was released in February 1991."
   ]
  },
  {
   "cell_type": "markdown",
   "id": "9ea46896-2aea-4f92-b9be-300a83487de8",
   "metadata": {},
   "source": [
    "2. Which type of programming does python support?"
   ]
  },
  {
   "cell_type": "raw",
   "id": "61ca8d88-3c0b-4018-8f16-eeb36424b74f",
   "metadata": {},
   "source": [
    "Python supports multiple programming paradigms, making it a versatile and flexible programming language. \n",
    "\n",
    "1.Procedural Programming\n",
    "2.Object-Oriented Programming (OOP)\n",
    "3.Functional Programming\n",
    "4.Imperative Programming\n",
    "5.Declarative Programming\n",
    "6.Scripting\n",
    "7.Data Analysis and Scientific Computing"
   ]
  },
  {
   "cell_type": "markdown",
   "id": "f0b15aa9-678f-45fb-8a39-63f958b0856b",
   "metadata": {},
   "source": [
    "3.Is Python case sensitive when dealing with identifiers?"
   ]
  },
  {
   "cell_type": "raw",
   "id": "82996e5e-33f3-4481-be6b-193c165233a4",
   "metadata": {},
   "source": [
    "Yes, Python is case-sensitive when dealing with identifiers. "
   ]
  },
  {
   "cell_type": "markdown",
   "id": "1c9b028d-f0e0-4b3c-b4c1-8efd62e4ac9b",
   "metadata": {},
   "source": [
    "4. What is the correct extension of the Python File?"
   ]
  },
  {
   "cell_type": "raw",
   "id": "990af06e-c1ba-4c04-8d77-1ba9d090a39c",
   "metadata": {},
   "source": [
    "The correct extension for Python source code files is .py"
   ]
  },
  {
   "cell_type": "markdown",
   "id": "ddc2bd64-0992-40b3-a654-e5ba0a90e430",
   "metadata": {},
   "source": [
    "5. Is Python code compiled or interpreted?"
   ]
  },
  {
   "cell_type": "raw",
   "id": "055311bb-4972-428e-92dc-9eca1cf97e40",
   "metadata": {},
   "source": [
    "Python is both compiled and interpreted, but it primarily uses an interpreted approach."
   ]
  },
  {
   "cell_type": "markdown",
   "id": "c2504c94-d6ab-4892-8eff-828b24416c2b",
   "metadata": {},
   "source": [
    "6.Name a few blocks of code used to define in python language?"
   ]
  },
  {
   "cell_type": "raw",
   "id": "5cb049fd-8c8b-4c98-947d-686c97551f1e",
   "metadata": {},
   "source": [
    "1.Function Blocks: Functions in Python are defined using the def keyword, followed by a function name, parameters, and a colon. \n",
    "\n",
    "def my_function(parameter):\n",
    "    # This is a function block\n",
    "    # Indented code inside the function\n",
    "    result = parameter * 2\n",
    "    return result\n",
    "2.Conditional Blocks: Conditional statements like if, elif, and else are used to create code blocks that execute conditionally based on the evaluation of boolean expressions. \n",
    "\n",
    "if condition:\n",
    "    # This is an if block\n",
    "    # Indented code inside the if block\n",
    "    do_something()\n",
    "elif another_condition:\n",
    "    # This is an elif block\n",
    "    # Indented code inside the elif block\n",
    "    do_something_else()\n",
    "else:\n",
    "    # This is an else block\n",
    "    # Indented code inside the else block\n",
    "    do_other()\n"
   ]
  },
  {
   "cell_type": "markdown",
   "id": "d88fbc6d-2edb-4b60-9479-57aa6b8b734a",
   "metadata": {},
   "source": [
    "7.State a character used to give single-line comments in python?"
   ]
  },
  {
   "cell_type": "code",
   "execution_count": 1,
   "id": "1e7af02f-8102-4c25-8c16-000b2908b07f",
   "metadata": {},
   "outputs": [],
   "source": [
    "#In Python, a single-line comment is preceded by the # (hash) character. \n",
    "\n",
    "# This is a single-line comment\n",
    "x = 5  # This comment explains the purpose of the variable"
   ]
  },
  {
   "cell_type": "markdown",
   "id": "dd68dca4-8944-4b9c-ad97-3c675d89c4d7",
   "metadata": {},
   "source": [
    "8.Mention function which can help us to find the version of python that we are currently working on?"
   ]
  },
  {
   "cell_type": "raw",
   "id": "f01d2beb-c1b7-4510-b042-aa0ec33d48be",
   "metadata": {},
   "source": [
    "You can use the sys module in Python to find the version of Python you are currently working with.\n",
    "\n",
    "import sys\n",
    "\n",
    "python_version = sys.version\n",
    "print(\"Python Version:\", python_version)"
   ]
  },
  {
   "cell_type": "markdown",
   "id": "341841c0-30dc-4486-aa3e-cf3a70ba1845",
   "metadata": {},
   "source": [
    "9.python supports the creation of anonymous functions at runtime, using a construct called __________"
   ]
  },
  {
   "cell_type": "raw",
   "id": "cff9a34c-7209-471d-b5f8-ca5cfc2cd394",
   "metadata": {},
   "source": [
    "Lambda"
   ]
  },
  {
   "cell_type": "markdown",
   "id": "7649b5b7-1d22-4fc7-abad-6d8f844d10b5",
   "metadata": {},
   "source": [
    "10.what does pip stand for python?"
   ]
  },
  {
   "cell_type": "raw",
   "id": "5262a04a-905f-4e4d-b21e-d7c85f8ec083",
   "metadata": {},
   "source": [
    "In Python, \"pip\" stands for \"Pip Installs Packages\" or sometimes \"Pip Installs Python.\" It is a package manager for Python that allows you to easily install, manage, and uninstall Python packages and libraries. "
   ]
  },
  {
   "cell_type": "markdown",
   "id": "852d414e-edbb-4073-a76c-24b1965980d4",
   "metadata": {},
   "source": [
    "11.Mention a few built in function for python?"
   ]
  },
  {
   "cell_type": "raw",
   "id": "04c1978e-83f0-46cb-9238-a60d4b00dbaa",
   "metadata": {},
   "source": [
    "\n",
    "Python comes with a rich set of built-in functions that provide a wide range of functionality. Here are some commonly used built-in functions in Python:\n",
    "\n",
    "print(): Used to display text or values on the console.\n",
    "\n",
    "input(): Allows user input from the keyboard.\n",
    "\n",
    "len(): Returns the length (number of items) of an object such as a string, list, or tuple.\n",
    "\n",
    "type(): Returns the data type of an object.\n",
    "\n",
    "int(): Converts a value to an integer.\n",
    "\n",
    "float(): Converts a value to a floating-point number.\n",
    "\n",
    "str(): Converts a value to a string.\n",
    "\n",
    "list(): Converts an iterable (e.g., tuple or string) to a list.\n",
    "\n",
    "tuple(): Converts an iterable to a tuple.\n",
    "\n",
    "dict(): Creates a new dictionary.\n",
    "\n",
    "set(): Creates a new set.\n",
    "\n",
    "max(): Returns the largest item in an iterable or among two or more arguments.\n",
    "\n",
    "min(): Returns the smallest item in an iterable or among two or more arguments.\n",
    "\n",
    "sum(): Returns the sum of all items in an iterable.\n",
    "\n",
    "abs(): Returns the absolute value of a number.\n",
    "\n",
    "round(): Rounds a number to a specified number of decimal places.\n",
    "\n",
    "sorted(): Returns a sorted list from an iterable.\n",
    "\n",
    "range(): Generates a sequence of numbers."
   ]
  },
  {
   "cell_type": "markdown",
   "id": "0fe999bd-3998-4893-bd66-4974313cf0dc",
   "metadata": {},
   "source": [
    "12.What is the maximum possible length of an identifier in python?"
   ]
  },
  {
   "cell_type": "raw",
   "id": "fe2dcfc3-6844-4b8a-bfc7-482c7596ee40",
   "metadata": {},
   "source": [
    "In Python, the maximum possible length of an identifier (e.g., variable name, function name, or class name) is not specified by a fixed number of characters. Instead, it is determined by the implementation and practical considerations. Python does not set a strict limit on the length of identifiers."
   ]
  },
  {
   "cell_type": "markdown",
   "id": "1b9d854e-3854-4b95-a37b-d26613b5dee2",
   "metadata": {},
   "source": [
    "13.What are the benefits of using python?"
   ]
  },
  {
   "cell_type": "raw",
   "id": "e06b4c5d-3f90-46a4-af1b-453da5bb13f0",
   "metadata": {},
   "source": [
    "Python offers several benefits that make it a popular programming language for a wide range of applications. Some of the key benefits of using Python include:\n",
    "1.Readability and Maintainability\n",
    "2.Extensive Standard Library\n",
    "3.Cross-Platform Compatibility\n",
    "4.Large and Active Community\n",
    "5.Versatility\n",
    "6.Integration Capabilities\n",
    "7.High Productivity"
   ]
  },
  {
   "cell_type": "markdown",
   "id": "67cc1a24-861f-4ad2-9999-62628b31a8bc",
   "metadata": {},
   "source": [
    "14. How is memory managed in Python?"
   ]
  },
  {
   "cell_type": "raw",
   "id": "703e1d64-16d6-4e46-af77-77011e0bd5e4",
   "metadata": {},
   "source": [
    "Memory management in Python is handled automatically by the Python runtime environment through a combination of mechanisms, including reference counting and a garbage collector. "
   ]
  },
  {
   "cell_type": "markdown",
   "id": "13509cb4-d5af-4f59-9be4-bc2339d4f171",
   "metadata": {},
   "source": [
    "15.How to install Python on windows and set path variables?"
   ]
  },
  {
   "cell_type": "raw",
   "id": "3d2c5752-666c-441a-90b3-74067b0b2510",
   "metadata": {},
   "source": [
    "Download Python:\n",
    "Visit the official Python website at https://www.python.org/downloads/windows/.\n",
    "\n",
    "Run the Installer:\n",
    "\n",
    "Once the installer is downloaded, run it by double-clicking the file (e.g., python-3.x.x-amd64.exe) you downloaded.\n",
    "Make sure to check the box that says \"Add Python X.X to PATH\" during the installation process. This is important to set up the PATH environment variable for Python.\n",
    "\n",
    "\n",
    "Configure Python Installation:\n",
    "\n",
    "Follow the installation wizard's instructions. You can choose the installation location, but it's recommended to leave the default settings.\n",
    "Click \"Install\" to start the installation process.\n",
    "\n",
    "\n",
    "Verify Python Installation:\n",
    "\n",
    "After the installation is complete, open a command prompt (cmd) or PowerShell window.\n",
    "Type python and press Enter. You should see the Python version and a Python prompt (>>>) indicating that Python is installed and accessible.\n",
    "\n",
    "C:\\> python\n",
    "Python 3.9.6 (default, Jun 29 2021, 10:55:58)\n",
    "[GCC 8.4.0] on linux\n",
    "Type \"help\", \"copyright\", \"credits\" or \"license\" for more information.\n",
    ">>>\n",
    "\n",
    "\n",
    "Set Environment Variables (Optional):\n",
    "\n",
    "If you need to manually set environment variables or customize the installation further, follow these steps:\n",
    "Right-click on \"This PC\" (or \"My Computer\") and select \"Properties.\"\n",
    "Click on \"Advanced system settings\" on the left sidebar.\n",
    "In the \"System Properties\" window, click the \"Environment Variables\" button.\n",
    "Under \"System variables,\" scroll down and find the \"Path\" variable. Select it and click \"Edit.\"\n",
    "Click \"New\" and add the path to your Python installation directory (e.g., C:\\PythonXX) if it's not already there. Separate multiple paths with semicolons (;).\n",
    "Click \"OK\" to close the windows.\n",
    "\n",
    "\n",
    "Verify PATH Configuration:\n",
    "\n",
    "Open a new command prompt or PowerShell window.\n",
    "Type python and press Enter to confirm that Python is accessible from any directory.\n",
    "\n",
    "C:\\> python\n",
    "Python 3.9.6 (default, Jun 29 2021, 10:55:58)\n",
    "[GCC 8.4.0] on linux\n",
    "Type \"help\", \"copyright\", \"credits\" or \"license\" for more information.\n",
    ">>>"
   ]
  },
  {
   "cell_type": "markdown",
   "id": "e1f04831-ca18-4c07-8fcb-875629028fa7",
   "metadata": {},
   "source": [
    "16. Is indentation required in python?"
   ]
  },
  {
   "cell_type": "raw",
   "id": "2a3dc9d6-450f-40cc-8601-95d715565727",
   "metadata": {},
   "source": [
    "Yes, indentation is required in Python. Indentation is not just a matter of style; it is a fundamental part of Python's syntax and determines the structure of your code. Python uses indentation to define code blocks, such as those within functions, loops, conditional statements, and classes."
   ]
  },
  {
   "cell_type": "code",
   "execution_count": null,
   "id": "77a84ab3-c66d-4b41-bd55-fa72e9ea4506",
   "metadata": {},
   "outputs": [],
   "source": []
  }
 ],
 "metadata": {
  "kernelspec": {
   "display_name": "Python 3 (ipykernel)",
   "language": "python",
   "name": "python3"
  },
  "language_info": {
   "codemirror_mode": {
    "name": "ipython",
    "version": 3
   },
   "file_extension": ".py",
   "mimetype": "text/x-python",
   "name": "python",
   "nbconvert_exporter": "python",
   "pygments_lexer": "ipython3",
   "version": "3.10.8"
  }
 },
 "nbformat": 4,
 "nbformat_minor": 5
}
